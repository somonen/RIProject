{
 "cells": [
  {
   "cell_type": "code",
   "execution_count": 6,
   "id": "5df843bb-4c08-4a4b-954f-98c9ff5d1192",
   "metadata": {},
   "outputs": [],
   "source": [
    "import matplotlib.pyplot as plt\n",
    "import numpy as np\n",
    "def plot(customers, facilities):\n",
    "    assignments = {}\n",
    "    for facility in facilities:\n",
    "        assignments[facility] = []\n",
    "\n",
    "    for customer in customers:\n",
    "        distances = [np.hypot(customer.latitude - facility.latitude,\n",
    "                              customer.longitude - facility.longitude) for facility in facilities]\n",
    "        nearest = facilities[np.argmin(distances)]\n",
    "        assignments[nearest].append(customer)\n",
    "    \n",
    "    plt.figure(figsize=(6, 6))\n",
    "    plt.title(\"Customer-Facility Connections\")\n",
    "    \n",
    "    # Plot facilities\n",
    "    for facility in facilities:\n",
    "        plt.scatter(facility.latitude, facility.longitude, color='red', s=100, marker='^')\n",
    "        plt.text(facility.latitude + 0.1, facility.longitude, facility.name, fontsize=10, color='black')\n",
    "    \n",
    "    # Plot customers and connections\n",
    "    for facility, customers in assignments.items():\n",
    "        for customer in customers:\n",
    "            plt.scatter(customer.latitude, customer.longitude, color='blue', s=30, linewidths=0.1)\n",
    "            plt.plot([facility.latitude, customer.latitude], \n",
    "                     [facility.longitude, customer.longitude], color='blue', alpha=0.3)\n",
    "    \n",
    "    plt.xlabel(\"Latitude\")\n",
    "    plt.ylabel(\"Longitude\")\n",
    "    plt.grid(True, alpha=0.3)\n",
    "    plt.show()"
   ]
  }
 ],
 "metadata": {
  "kernelspec": {
   "display_name": "Python 3 (ipykernel)",
   "language": "python",
   "name": "python3"
  },
  "language_info": {
   "codemirror_mode": {
    "name": "ipython",
    "version": 3
   },
   "file_extension": ".py",
   "mimetype": "text/x-python",
   "name": "python",
   "nbconvert_exporter": "python",
   "pygments_lexer": "ipython3",
   "version": "3.9.1"
  }
 },
 "nbformat": 4,
 "nbformat_minor": 5
}
